{
 "cells": [
  {
   "cell_type": "code",
   "execution_count": 1,
   "id": "01b539c6",
   "metadata": {
    "scrolled": false
   },
   "outputs": [
    {
     "name": "stdout",
     "output_type": "stream",
     "text": [
      "# Project Overview\n",
      "This README provides an overview of the files and directories in this project.\n",
      "\n",
      "## Directory Structure\n",
      "\n",
      ".\n",
      "├── GenReadme.ipynb (Size: 4.98 KB, Last Modified: 2023-10-29 08:48 PM) - IPYNB File.\n",
      "├── Kiosk Archecture.png (Size: 75.21 KB, Last Modified: 2023-10-02 03:06 PM) - PNG File.\n",
      "├── Kiosk Architecture.pdf (Size: 21.17 KB, Last Modified: 2023-10-02 03:06 PM) - Microsoft Edge PDF File.\n",
      "├── Kiosk Dataflow diagram.pdf (Size: 244.68 KB, Last Modified: 2023-10-02 09:06 PM) - Microsoft Edge PDF File.\n",
      "├── Kiosk Problem Description.pdf (Size: 103.16 KB, Last Modified: 2023-10-09 08:24 AM) - Microsoft Edge PDF File.\n",
      "├── README.md (Size: 0.26 KB, Last Modified: 2023-10-29 08:46 PM) - MD File.\n",
      "├── .ipynb_checkpoints\n",
      "├── GenReadme-checkpoint.ipynb (Size: 4.98 KB, Last Modified: 2023-10-29 08:46 PM) - IPYNB File.\n"
     ]
    }
   ],
   "source": [
    "import os\n",
    "\n",
    "def get_file_description(file_path):\n",
    "    # Map extensions to descriptions\n",
    "    extension_map = {\n",
    "        '.ipynb': 'IPYNB File',\n",
    "        '.png': 'PNG File',\n",
    "        '.pdf': 'Microsoft Edge PDF File',\n",
    "        '.md': 'MD File'\n",
    "    }\n",
    "    \n",
    "    ext = os.path.splitext(file_path)[-1].lower()\n",
    "    return extension_map.get(ext, 'File')\n",
    "\n",
    "def generate_readme(directory=None, output_file=\"README.md\"):\n",
    "    if directory is None:\n",
    "        directory = os.getcwd()\n",
    "        \n",
    "    readme_contents = []\n",
    "    readme_contents.append(\"# Project Overview\\n\")\n",
    "    readme_contents.append(\"This README provides an overview of the files and directories in this project.\\n\\n\")\n",
    "    readme_contents.append(\"## Directory Structure\\n\\n\")\n",
    "    readme_contents.append(\".\\n\")\n",
    "    \n",
    "    for root, dirs, files in os.walk(directory):\n",
    "        relative_path = os.path.relpath(root, directory)\n",
    "        depth = relative_path.count(os.sep)\n",
    "        if relative_path == \".\":\n",
    "            pass\n",
    "        else:\n",
    "            indentation = \"│   \" * (depth - 1) if depth > 1 else \"\"\n",
    "            readme_contents.append(\"{}├── {}\\n\".format(indentation, os.path.basename(root)))\n",
    "            \n",
    "        for file_name in files:\n",
    "            file_path = os.path.join(root, file_name)\n",
    "            file_size = os.path.getsize(file_path) / 1000  # Size in KB\n",
    "            file_mod_time = os.path.getmtime(file_path)\n",
    "            formatted_time = format_time(file_mod_time)\n",
    "            file_type = get_file_description(file_path)\n",
    "            \n",
    "            file_info = \"{} (Size: {:.2f} KB, Last Modified: {}) - {}.\".format(\n",
    "                file_name, file_size, formatted_time, file_type)\n",
    "            \n",
    "            file_indentation = \"│   \" * depth\n",
    "            readme_contents.append(\"{}├── {}\\n\".format(file_indentation, file_info))\n",
    "    \n",
    "    with open(output_file, 'w', encoding='utf-8') as f:\n",
    "        f.writelines(readme_contents)\n",
    "        \n",
    "    # Print the generated README contents\n",
    "    for line in readme_contents:\n",
    "        print(line, end='')\n",
    "\n",
    "def format_time(timestamp):\n",
    "    from datetime import datetime\n",
    "    dt_object = datetime.fromtimestamp(timestamp)\n",
    "    return dt_object.strftime(\"%Y-%m-%d %I:%M %p\")\n",
    "\n",
    "generate_readme()\n"
   ]
  },
  {
   "cell_type": "code",
   "execution_count": null,
   "id": "34cc6db3",
   "metadata": {},
   "outputs": [],
   "source": []
  },
  {
   "cell_type": "code",
   "execution_count": null,
   "id": "cdf66eb9",
   "metadata": {},
   "outputs": [],
   "source": []
  },
  {
   "cell_type": "code",
   "execution_count": null,
   "id": "ec416f7b",
   "metadata": {},
   "outputs": [],
   "source": []
  }
 ],
 "metadata": {
  "kernelspec": {
   "display_name": "Python 3 (ipykernel)",
   "language": "python",
   "name": "python3"
  },
  "language_info": {
   "codemirror_mode": {
    "name": "ipython",
    "version": 3
   },
   "file_extension": ".py",
   "mimetype": "text/x-python",
   "name": "python",
   "nbconvert_exporter": "python",
   "pygments_lexer": "ipython3",
   "version": "3.11.5"
  }
 },
 "nbformat": 4,
 "nbformat_minor": 5
}
